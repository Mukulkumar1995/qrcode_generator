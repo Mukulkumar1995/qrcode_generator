{
 "cells": [
  {
   "cell_type": "code",
   "execution_count": 1,
   "id": "6aef0067",
   "metadata": {},
   "outputs": [
    {
     "name": "stdout",
     "output_type": "stream",
     "text": [
      "Requirement already satisfied: qrcode in c:\\users\\aryaw\\anaconda3\\lib\\site-packages (7.4.2)\n",
      "Requirement already satisfied: pypng in c:\\users\\aryaw\\anaconda3\\lib\\site-packages (from qrcode) (0.20220715.0)\n",
      "Requirement already satisfied: typing-extensions in c:\\users\\aryaw\\anaconda3\\lib\\site-packages (from qrcode) (4.1.1)\n",
      "Requirement already satisfied: colorama in c:\\users\\aryaw\\anaconda3\\lib\\site-packages (from qrcode) (0.4.4)\n",
      "Note: you may need to restart the kernel to use updated packages.\n"
     ]
    }
   ],
   "source": [
    "pip install qrcode"
   ]
  },
  {
   "cell_type": "code",
   "execution_count": 2,
   "id": "7de27759",
   "metadata": {},
   "outputs": [],
   "source": [
    "import qrcode as qr\n",
    "img=qr.make(\"https://www.youtube.com/watch?v=FOGRHBp6lvM&list=PLjVLYmrlmjGfAUdLiF2bQ-0l8SwNZ1sBl&index=1\")\n",
    "img.save(\"mukul_jha.png\")"
   ]
  },
  {
   "cell_type": "code",
   "execution_count": null,
   "id": "edf71be8",
   "metadata": {},
   "outputs": [],
   "source": []
  }
 ],
 "metadata": {
  "kernelspec": {
   "display_name": "Python 3 (ipykernel)",
   "language": "python",
   "name": "python3"
  },
  "language_info": {
   "codemirror_mode": {
    "name": "ipython",
    "version": 3
   },
   "file_extension": ".py",
   "mimetype": "text/x-python",
   "name": "python",
   "nbconvert_exporter": "python",
   "pygments_lexer": "ipython3",
   "version": "3.9.12"
  }
 },
 "nbformat": 4,
 "nbformat_minor": 5
}
